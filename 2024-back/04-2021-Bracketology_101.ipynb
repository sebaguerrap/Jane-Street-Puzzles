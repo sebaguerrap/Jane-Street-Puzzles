{
 "cells": [
  {
   "cell_type": "markdown",
   "id": "abbb8ca7",
   "metadata": {},
   "source": [
    "# Jane Street Puzzle 04-2021: Bracketology 101"
   ]
  },
  {
   "cell_type": "markdown",
   "id": "cc2699bc",
   "metadata": {},
   "source": [
    "# Theory"
   ]
  },
  {
   "cell_type": "markdown",
   "id": "documented-twist",
   "metadata": {},
   "source": [
    "Let $p_{ij}$ be the probability that $i$-seed wins against $j$-seed and $q_{ir}$ the probability that seed $i$ wins in round $r$ (there are 4 rounds in total). Based on the bracket, we can define the set $O_{ir}$ of possible opponents for the $i$-seed in round $r$ with $O_{i,1}$ being the singleton containing the $i$-seed's first opponent.\n",
    "\n",
    "Thus, $q$ can be otained as follows:\n",
    "\n",
    "$$q_{ir}=\\begin{cases}p_{io},\\, o\\in O_{i,r} &\\text{if } r=1\\\\\n",
    "q_{i,r-1} \\cdot \\displaystyle\\sum_{o\\in O_{i,r}}  p_{io} \\cdot q_{o, r-1} & \\text{else}\n",
    "\\end{cases}$$\n",
    "\n",
    "We are interested in $q_{2,4}$, the probability that the $2$-seed wins the tournament."
   ]
  },
  {
   "cell_type": "markdown",
   "id": "b1a7d73d",
   "metadata": {},
   "source": [
    "## Computational Implementation"
   ]
  },
  {
   "cell_type": "markdown",
   "id": "5ac3728a",
   "metadata": {},
   "source": [
    "Parameters and Variables"
   ]
  },
  {
   "cell_type": "code",
   "execution_count": 1,
   "id": "norwegian-shock",
   "metadata": {},
   "outputs": [],
   "source": [
    "probs = dict()\n",
    "\n",
    "for i in range(1, 17):\n",
    "    for j in range(i + 1, 17):\n",
    "        probs[(i, j)] = j / (i + j)\n",
    "        probs[(j, i)] = 1 - probs[(i,j)]\n",
    "\n",
    "default_bracket = [1, 16, 8, 9, 5, 12, 4, 13, 6, 11, 3, 14, 7, 10, 2, 15]"
   ]
  },
  {
   "cell_type": "code",
   "execution_count": 2,
   "id": "26bedf45",
   "metadata": {},
   "outputs": [],
   "source": [
    "def prob_wins_r(i, n, bracket):\n",
    "    \"\"\"returns the probability that seed i wins round n given a bracket\"\"\"\n",
    "    r_index = bracket.index(i) // 2**n\n",
    "    opp = r_index + 1 if r_index % 2 == 0 else r_index - 1\n",
    "\n",
    "    if n == 0:\n",
    "        return probs[(i, bracket[opp])]\n",
    "\n",
    "    prob = 0\n",
    "    for j in range(len(bracket)):\n",
    "        if j // 2**n == opp:\n",
    "            prob += probs[(i, bracket[j])] * prob_wins_r(bracket[j], n - 1, bracket)\n",
    "\n",
    "    return prob_wins_r(i, n - 1, bracket) * prob"
   ]
  },
  {
   "cell_type": "code",
   "execution_count": 3,
   "id": "8a9e18aa",
   "metadata": {},
   "outputs": [],
   "source": [
    "def best_change(bracket):\n",
    "    best_change = None\n",
    "    best_prob = prob_wins_r(2, 3, bracket)\n",
    "\n",
    "    for i in range(1, 9):\n",
    "        for j in range(i + 1, 17):\n",
    "            i_index = bracket.index(i)\n",
    "            j_index = bracket.index(j)\n",
    "\n",
    "            new_bracket = bracket.copy()\n",
    "\n",
    "            new_bracket[i_index] = j\n",
    "            new_bracket[j_index] = i \n",
    "\n",
    "            prob_2_wins = prob_wins_r(2, 3, new_bracket)\n",
    "            if prob_2_wins > best_prob:\n",
    "                best_prob = prob_2_wins\n",
    "                best_change = (i, j)\n",
    "    \n",
    "    return best_change, best_prob"
   ]
  },
  {
   "cell_type": "code",
   "execution_count": 4,
   "id": "08badede",
   "metadata": {},
   "outputs": [
    {
     "name": "stdout",
     "output_type": "stream",
     "text": [
      "Best result achieved when changing 3 with 16 with a difference in the probability of winning of 6.55795%\n"
     ]
    }
   ],
   "source": [
    "prob_2_wins = prob_wins_r(2, 3, default_bracket)\n",
    "bst_change, best_prob = best_change(default_bracket)\n",
    "\n",
    "print(f\"Best result achieved when changing {bst_change[0]} with {bst_change[1]} with a difference in the probability of winning of {(best_prob - prob_2_wins) * 100:.5f}%\")"
   ]
  },
  {
   "cell_type": "code",
   "execution_count": null,
   "id": "06e60067",
   "metadata": {},
   "outputs": [],
   "source": []
  }
 ],
 "metadata": {
  "kernelspec": {
   "display_name": "Python 3",
   "language": "python",
   "name": "python3"
  },
  "language_info": {
   "codemirror_mode": {
    "name": "ipython",
    "version": 3
   },
   "file_extension": ".py",
   "mimetype": "text/x-python",
   "name": "python",
   "nbconvert_exporter": "python",
   "pygments_lexer": "ipython3",
   "version": "3.12.11"
  }
 },
 "nbformat": 4,
 "nbformat_minor": 5
}
