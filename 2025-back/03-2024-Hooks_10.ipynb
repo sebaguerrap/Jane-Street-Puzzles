{
 "cells": [
  {
   "cell_type": "markdown",
   "metadata": {},
   "source": [
    "# Jane Street Puzzle 03-2024: Hooks 10"
   ]
  },
  {
   "cell_type": "code",
   "execution_count": 1,
   "metadata": {},
   "outputs": [],
   "source": [
    "import numpy as np\n",
    "import z3\n",
    "import matplotlib.pyplot as plt\n",
    "import seaborn as sns\n",
    "import scipy.ndimage as ndi"
   ]
  },
  {
   "cell_type": "markdown",
   "metadata": {},
   "source": [
    "### Note\n",
    "\n",
    "I'm not really satisfied by how long this solution takes to get but it's the script I used to get the result so I'll just leave it as is. There is a small chance I'll optimize the code in the future.\n",
    "\n",
    "I took inspiration from [this repo](https://github.com/miguelbper/jane-street-puzzles) to get my solution."
   ]
  },
  {
   "cell_type": "markdown",
   "metadata": {},
   "source": [
    "## Computational Implementation"
   ]
  },
  {
   "cell_type": "code",
   "execution_count": 2,
   "metadata": {},
   "outputs": [],
   "source": [
    "hints = np.array([[0, -1, -1, -1, -1], \n",
    "                  [-1, -1, 9, -1, 7],\n",
    "                  [8, -1, -1, -1, -1],\n",
    "                  [-1, -1, 15, -1, 12],\n",
    "                  [10, -1, -1, -1, -1]])\n",
    "\n",
    "def areas(grid):\n",
    "    labels, num = ndi.label(np.logical_not(grid != 0))\n",
    "    areas = ndi.sum(np.logical_not(grid != 0), labels, index=range(1, num + 1))\n",
    "    print(\"areas are\", areas)\n",
    "    return np.prod(areas)\n",
    "\n",
    "def neigh(i, j, n):\n",
    "    return [(i + x, j + y) for (x, y) in [(-1, 0), (1, 0), (0, -1), (0, 1)]\n",
    "            if 0 <= i + x < n and 0 <= j + y < n]\n",
    "\n",
    "def create_L(n):\n",
    "    arr = []\n",
    "    for i in range(n - 1):\n",
    "        aux = [1]\n",
    "        for j in range(n - 1):\n",
    "            aux.append(0)\n",
    "        arr.append(aux)\n",
    "    arr.append(np.ones(n))\n",
    "\n",
    "    return np.array(arr, dtype=int)\n",
    "        "
   ]
  },
  {
   "cell_type": "code",
   "execution_count": 3,
   "metadata": {},
   "outputs": [],
   "source": [
    "def fill(hints, n, tactic=\"qffd\"):\n",
    "    # set up the variables\n",
    "    scores = np.array(z3.IntVector(\"scores\", n * n), dtype=object).reshape(n, n)\n",
    "    region = np.array(z3.IntVector(\"region\", n * n), dtype=object).reshape(n, n)\n",
    "\n",
    "    # set up solver\n",
    "\n",
    "    s = z3.Tactic(tactic).solver()\n",
    "\n",
    "    # bounds for the values\n",
    "    s += [z3.And(e >= 0, e <= n) for (i,j), e in np.ndenumerate(scores)]\n",
    "\n",
    "    # if hints has a value, then scores has to be 0\n",
    "    s += [scores[i][j] == 0 for (i, j), e in np.ndenumerate(hints) if e != -1]\n",
    "\n",
    "    # cells orthogonally adjacent to a hint must sum to that value\n",
    "    for (i,j), e in np.ndenumerate(hints):\n",
    "        if e != -1:\n",
    "            # s += [z3.Sum([scores[i + x, j + y] for x, y in [(1, 0), (-1, 0), (0, 1), (0, -1)] if 0 <= i + x < n and 0 <= j + y < n]) == e]\n",
    "            s += [z3.Sum([scores[x, y] for x, y in neigh(i, j, n)]) == e]\n",
    "\n",
    "    # every 2 by 2 region must have at least one empty cell\n",
    "    for i in range(n - 1):\n",
    "        for j in range(n - 1):\n",
    "            s += [z3.Or(scores[i][j] == 0, scores[i + 1][j] == 0, scores[i][j + 1] == 0, scores[i + 1][j + 1] == 0)]\n",
    "\n",
    "    # Every cell must belong to a region\n",
    "    s += [z3.And(e >= 1, e <= n) for (i,j), e in np.ndenumerate(region)]\n",
    "\n",
    "    # cells with same score must belong to same region except for the 0s\n",
    "    s += z3.And([z3.Implies(e == e2, z3.Or(region[i, j] == region[x, y], e == 0))\n",
    "            for (i, j), e in np.ndenumerate(scores) for (x, y), e2 in np.ndenumerate(scores)])\n",
    "    \n",
    "    # cell with score 1 must belong to region 1\n",
    "    for (i, j), e in np.ndenumerate(scores):\n",
    "        s += z3.Implies(e == 1, region[i, j] == 1)\n",
    "\n",
    "    # There must be 5 cells with score 5, 4 cells with score 4, etc...\n",
    "    for i in range(1, n + 1):\n",
    "        s += z3.Sum([z3.If(scores[x, y] == i, 1, 0) for (x, y), e in np.ndenumerate(scores)]) == i\n",
    "\n",
    "    # There is 1 tile with region 1, 3 tiles with region 2, 5 tiles with region 3, etc.\n",
    "    for i in range(1, n + 1):\n",
    "        s += z3.Sum([z3.If(region[x, y] == i, 1, 0) for (x, y), e in np.ndenumerate(region)]) == 2 * (i - 1) + 1\n",
    "    \n",
    "    # Non empty cells must form a single connected component\n",
    "    edge = {}\n",
    "    Z = np.array(z3.IntVector('z', n * n), dtype=object).reshape(n, n)\n",
    "    for i in range(n):\n",
    "        for j in range(n):\n",
    "            for (k ,l) in neigh(i, j, n):\n",
    "                edge[(i, j, k, l)] = z3.Int(f\"e{i}{j}{k}{l}\")\n",
    "                s += z3.Or(edge[(i, j, k, l)] == 0, edge[(i, j, k, l)] == 1)\n",
    "    \n",
    "    for i in range(n):\n",
    "        for j in range(n):\n",
    "            s += z3.Implies(scores[i, j] == 0,\n",
    "                            z3.And(z3.Sum([edge[(k, l, i, j)] for (k, l) in neigh(i, j, n)]) == 0,\n",
    "                                   z3.Sum([edge[(i, j, k, l)] for (k, l) in neigh(i, j, n)]) == 0))\n",
    "            s += z3.Implies(scores[i, j] > 0, z3.Sum([edge[(k, l, i, j)] for (k, l) in neigh(i, j, n)]) <= 1)\n",
    "    \n",
    "            for (k, l) in neigh(i, j, n):\n",
    "                s += (edge[(i, j, k, l)] + edge[(k, l, i, j)]) <= 1\n",
    "    \n",
    "    s += [z3.And(e >= 0, e <= n * n) for (i, j), e in np.ndenumerate(Z)]\n",
    "    for i in range(n):\n",
    "        for j in range(n):\n",
    "            s += [z3.Implies(z3.And(scores[i, j] != 0, edge[(k, l, i, j)] == 1), Z[i, j] > Z[k, l]) for (k, l) in neigh(i, j, n)]\n",
    "    s += z3.PbEq([(z3.And(scores[i, j] != 0, z3.Sum([edge[(k, l, i, j)] for (k, l) in neigh(i, j, n) ]) == 0), 1) for i in range(n) for j in range(n)], 1)\n",
    "\n",
    "    # Apply the L shapes\n",
    "    for size in range(2, n + 1):\n",
    "        options = []\n",
    "        for r in range(4):\n",
    "            l = create_L(size)\n",
    "            l = np.rot90(l, r)\n",
    "            for (i, j), e in np.ndenumerate(l):\n",
    "                if e != 0:\n",
    "                    coords = []\n",
    "                    for (x, y), e in np.ndenumerate(l):\n",
    "                        if e != 0 and (x - i, y - j) != (0, 0):\n",
    "                            coords += [(x - i, y - j)]\n",
    "                    options.append(coords)\n",
    "\n",
    "        for (i, j), e in np.ndenumerate(region):\n",
    "            s += z3.Implies(e == size, z3.Or([z3.And([region[i + x, j + y] == size for x, y in opt ])\n",
    "                                              for opt in options\n",
    "                                              if np.all([0 <= i + x < n and 0 <= j + y < n for x, y in opt])]))\n",
    "            \n",
    "    \n",
    "    \n",
    "    if s.check() == z3.sat:\n",
    "        m = s.model()\n",
    "        eval = np.vectorize(lambda x: m.evaluate(x).as_long())\n",
    "        result = eval(scores)\n",
    "        result_2 = eval(region)\n",
    "        s+= z3.Or([scores[i,j] != int(e) for (i, j), e in np.ndenumerate(result)])\n",
    "        if s.check() == z3.sat:\n",
    "            print(\"not unique\")\n",
    "        else:\n",
    "            print(\"unique\")        \n",
    "        \n",
    "        return result, result_2\n",
    "    else:\n",
    "        return None, None\n"
   ]
  },
  {
   "cell_type": "code",
   "execution_count": 4,
   "metadata": {},
   "outputs": [
    {
     "name": "stdout",
     "output_type": "stream",
     "text": [
      "unique\n"
     ]
    }
   ],
   "source": [
    "hints = np.array([[-1, 18, -1, -1, -1, -1, 7, -1, -1],\n",
    "                  [-1, -1, -1, -1, 12, -1, -1, -1, -1],\n",
    "                  [-1, -1, 9, -1, -1, -1, -1, 31, -1],\n",
    "                  [-1, -1, -1, -1, -1, -1, -1, -1, -1],\n",
    "                  [-1, 5, -1, 11, -1, 22, -1, 22, -1],\n",
    "                  [-1, -1, -1, -1, -1, -1, -1, -1, -1],\n",
    "                  [-1, 9, -1, -1, -1, -1, 19, -1, -1],\n",
    "                  [-1, -1, -1, -1, 14, -1, -1, -1, -1],\n",
    "                  [-1, -1, 22, -1, -1, -1, -1, 15, -1]])\n",
    "\n",
    "sol, region = fill(hints, 9)"
   ]
  },
  {
   "cell_type": "code",
   "execution_count": 7,
   "metadata": {},
   "outputs": [
    {
     "name": "stdout",
     "output_type": "stream",
     "text": [
      "areas are [5. 7. 1. 1. 1. 6. 1. 1. 2. 5. 2. 1. 1. 2.]\n",
      "Product of areas is: 8400\n"
     ]
    }
   ],
   "source": [
    "result = areas(sol!=0)\n",
    "print(f\"Product of areas is: {result:.0f}\")"
   ]
  },
  {
   "cell_type": "code",
   "execution_count": 8,
   "metadata": {},
   "outputs": [
    {
     "data": {
      "image/png": "[encoded data removed]",
      "text/plain": [
       "<Figure size 900x900 with 2 Axes>"
      ]
     },
     "metadata": {},
     "output_type": "display_data"
    }
   ],
   "source": [
    "fig, ax = plt.subplots(1, 1, figsize=(9, 9))\n",
    "x = np.array((sol).astype(int)).astype(str)\n",
    "x[x == \"0\"] = \"-\"\n",
    "ax = sns.heatmap(region, annot=x, fmt=\"\")\n",
    "plt.show()"
   ]
  },
  {
   "cell_type": "code",
   "execution_count": null,
   "metadata": {},
   "outputs": [],
   "source": []
  }
 ],
 "metadata": {
  "kernelspec": {
   "display_name": "Python 3",
   "language": "python",
   "name": "python3"
  },
  "language_info": {
   "codemirror_mode": {
    "name": "ipython",
    "version": 3
   },
   "file_extension": ".py",
   "mimetype": "text/x-python",
   "name": "python",
   "nbconvert_exporter": "python",
   "pygments_lexer": "ipython3",
   "version": "3.9.6"
  }
 },
 "nbformat": 4,
 "nbformat_minor": 2
}
